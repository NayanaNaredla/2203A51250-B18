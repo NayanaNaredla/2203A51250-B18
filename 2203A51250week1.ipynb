{
  "nbformat": 4,
  "nbformat_minor": 0,
  "metadata": {
    "colab": {
      "provenance": []
    },
    "kernelspec": {
      "name": "python3",
      "display_name": "Python 3"
    },
    "language_info": {
      "name": "python"
    }
  },
  "cells": [
    {
      "cell_type": "code",
      "execution_count": 2,
      "metadata": {
        "colab": {
          "base_uri": "https://localhost:8080/"
        },
        "id": "2VEZKSpywc1e",
        "outputId": "cdd0665b-edf4-4f3d-fa41-4750f309d83e"
      },
      "outputs": [
        {
          "output_type": "stream",
          "name": "stdout",
          "text": [
            "list= [1, 2, 3]\n",
            "array= [1 2 3]\n"
          ]
        },
        {
          "output_type": "execute_result",
          "data": {
            "text/plain": [
              "numpy.ndarray"
            ]
          },
          "metadata": {},
          "execution_count": 2
        }
      ],
      "source": [
        "import numpy as np\n",
        "list1=[1,2,3]\n",
        "array1=np.array(list1)\n",
        "print('list=',list1)\n",
        "print('array=',array1)\n",
        "type(list1)\n",
        "type(array1)\n"
      ]
    },
    {
      "cell_type": "code",
      "source": [
        "type(list1)\n"
      ],
      "metadata": {
        "colab": {
          "base_uri": "https://localhost:8080/"
        },
        "id": "7gJqWXq60j71",
        "outputId": "2e13157a-81d0-4c6f-d42f-93c46a986837"
      },
      "execution_count": 4,
      "outputs": [
        {
          "output_type": "execute_result",
          "data": {
            "text/plain": [
              "list"
            ]
          },
          "metadata": {},
          "execution_count": 4
        }
      ]
    },
    {
      "cell_type": "code",
      "source": [
        "type(array1)"
      ],
      "metadata": {
        "colab": {
          "base_uri": "https://localhost:8080/"
        },
        "id": "HCbeggQq0xoF",
        "outputId": "d0836f95-d588-41f9-8a27-41314a004a34"
      },
      "execution_count": 5,
      "outputs": [
        {
          "output_type": "execute_result",
          "data": {
            "text/plain": [
              "numpy.ndarray"
            ]
          },
          "metadata": {},
          "execution_count": 5
        }
      ]
    },
    {
      "cell_type": "code",
      "source": [
        "import numpy as numpy\n",
        "array1=np.array([10,20,30])\n",
        "array2=np.array([2,2,2])\n",
        "\n",
        "print(\"array2 multiplied by array1:\",array1*array2)\n",
        "print(\"array2 divided by array1:\",array2/array1)\n",
        "print(\"array2 raised to the power of array1:\",array2**array1)\n",
        "print(\"adding two numpy arrays {array1} and {array2} together:\",array1+array2)\n"
      ],
      "metadata": {
        "colab": {
          "base_uri": "https://localhost:8080/"
        },
        "id": "RDIHyGcF02NH",
        "outputId": "2d03271f-e3ed-4e77-ad54-846966c1ba3b"
      },
      "execution_count": 6,
      "outputs": [
        {
          "output_type": "stream",
          "name": "stdout",
          "text": [
            "array2 multiplied by array1: [20 40 60]\n",
            "array2 divided by array1: [0.2        0.1        0.06666667]\n",
            "array2 raised to the power of array1: [      1024    1048576 1073741824]\n",
            "adding two numpy arrays {array1} and {array2} together: [12 22 32]\n"
          ]
        }
      ]
    },
    {
      "cell_type": "code",
      "source": [
        "import numpy as np\n",
        "def main():\n",
        "  #generate two arrays\n",
        "  array1=np.array([[1,2,3],[4,5,6]])\n",
        "  array2=np.array([[7,8,9],[10,11,12]])\n",
        "\n",
        "  #perform addition\n",
        "  result_array=np.add(array1,array2)\n",
        "\n",
        "  #display the textual output\n",
        "  print(f\"Addition of two arrays:\\n{array1}+{array2}\")\n",
        "\n",
        "if __name__==\"__main__\":\n",
        "  main()\n"
      ],
      "metadata": {
        "colab": {
          "base_uri": "https://localhost:8080/"
        },
        "id": "a7zSHPIJ16bm",
        "outputId": "623c6eff-c527-476b-cc8a-96ee1ba46fed"
      },
      "execution_count": 9,
      "outputs": [
        {
          "output_type": "stream",
          "name": "stdout",
          "text": [
            "Addition of two arrays:\n",
            "[[1 2 3]\n",
            " [4 5 6]]+[[ 7  8  9]\n",
            " [10 11 12]]\n"
          ]
        }
      ]
    },
    {
      "cell_type": "code",
      "source": [
        "import numpy as np\n",
        "array1=np.array([10,20,30])\n",
        "#sine function\n",
        "print(\"sine: \",np.sin(array1))\n",
        "#logarithm\n",
        "print(\"natural logarithm: \",np.log(array1))\n",
        "print(\"Base-10 logarithm: \",np.log10(array1))\n",
        "print(\"Base-2 logarithm: \",np.log2(array1))\n",
        "#Exponential\n",
        "print(\"Exponential: \",np.exp(array1))"
      ],
      "metadata": {
        "colab": {
          "base_uri": "https://localhost:8080/"
        },
        "id": "87HOCdPK30ZU",
        "outputId": "792555ef-a61f-47b3-c011-0932954a728e"
      },
      "execution_count": 10,
      "outputs": [
        {
          "output_type": "stream",
          "name": "stdout",
          "text": [
            "sine:  [-0.54402111  0.91294525 -0.98803162]\n",
            "natural logarithm:  [2.30258509 2.99573227 3.40119738]\n",
            "Base-10 logarithm:  [1.         1.30103    1.47712125]\n",
            "Base-2 logarithm:  [3.32192809 4.32192809 4.9068906 ]\n",
            "Exponential:  [2.20264658e+04 4.85165195e+08 1.06864746e+13]\n"
          ]
        }
      ]
    }
  ]
}